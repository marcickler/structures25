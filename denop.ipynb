{
 "cells": [
  {
   "cell_type": "markdown",
   "id": "ee5a05dd",
   "metadata": {},
   "source": [
    "## **SciAI: Density Optimization (Denop)**\n",
    "\n",
    "Welcome to the SciAI Density Optimization notebook! With this notebook, you can perform density optimization using our pre-trained machine learning models. You pass in any molecule in the `.xyz` format, and get the optimized energy as output (among others).\n",
    "\n",
    "Some more resources:\n",
    "\n",
    "- [Structures25 paper. Stable and Accurate Orbital-Free Density Functional Theory Powered by Machine Learning](https://pubs.acs.org/doi/10.1021/jacs.5c06219)\n",
    "- [SciAI Structures25 GitHub repository](https://github.com/sciai-lab/structures25)\n",
    "- [The data that this Jupyter Notebook is downloading from HuggingFace](https://huggingface.co/sciai-lab/structures25/tree/main)"
   ]
  },
  {
   "cell_type": "code",
   "execution_count": null,
   "id": "61698c30",
   "metadata": {},
   "outputs": [],
   "source": [
    "import torch\n",
    "\n",
    "DEVICE = \"cpu\"\n",
    "\n",
    "if torch.cuda.is_available():\n",
    "    DEVICE = \"cuda\"\n",
    "    # if you work on a cluster with multiple GPUs, only use one of them\n",
    "    # (because you are nice to your colleagues and don't want to take all of them)\n",
    "    # import os\n",
    "    # os.environ[\"CUDA_VISIBLE_DEVICES\"] = \"0\""
   ]
  },
  {
   "cell_type": "markdown",
   "id": "65eb849a",
   "metadata": {},
   "source": [
    "### 🎈 **Install & import dependencies**"
   ]
  },
  {
   "cell_type": "code",
   "execution_count": null,
   "id": "94cf4156",
   "metadata": {},
   "outputs": [],
   "source": [
    "%pip install -r requirements.txt"
   ]
  },
  {
   "cell_type": "code",
   "execution_count": null,
   "id": "7051330e",
   "metadata": {},
   "outputs": [],
   "source": [
    "import torch\n",
    "from omegaconf import DictConfig, OmegaConf\n",
    "from pyscf import gto\n",
    "\n",
    "from mldft.ml.models.mldft_module import MLDFTLitModule\n",
    "from mldft.ofdft.functional_factory import FunctionalFactory\n",
    "from mldft.ofdft.optimizer import TorchOptimizer\n",
    "from mldft.ofdft.run_density_optimization import SampleGenerator, density_optimization\n",
    "from mldft.utils.utils import set_default_torch_dtype"
   ]
  },
  {
   "cell_type": "markdown",
   "id": "434925ac",
   "metadata": {},
   "source": [
    "### 🎈 **Download our latest models from [Hugging Face](https://huggingface.co/sciai-lab/structures25/tree/main)**"
   ]
  },
  {
   "cell_type": "markdown",
   "id": "9fa199b1",
   "metadata": {},
   "source": [
    "If you want to run density optimization on your own molecules, just replace the `MOLECULE_FILE` variable below with your own file path."
   ]
  },
  {
   "cell_type": "code",
   "execution_count": null,
   "id": "c69c9ef4",
   "metadata": {},
   "outputs": [],
   "source": [
    "# https://huggingface.co/docs/datasets/cache#cache-directory\n",
    "# The default cache directory is `~/.cache/huggingface/datasets`\n",
    "# You can change it by setting this variable to any path you like\n",
    "CACHE_DIR = None"
   ]
  },
  {
   "cell_type": "code",
   "execution_count": null,
   "id": "698525d9",
   "metadata": {},
   "outputs": [],
   "source": [
    "from huggingface_hub import hf_hub_download\n",
    "\n",
    "# https://huggingface.co/sciai-lab/structures25/tree/main\n",
    "REPO_ID = \"sciai-lab/structures25\"\n",
    "\n",
    "\n",
    "def use_model_trained_on_qm9():\n",
    "    print(\"Using QM9 model\")\n",
    "    model_config_path = hf_hub_download(\n",
    "        repo_id=REPO_ID, filename=\"trained-on-qm9/hparams.yaml\", cache_dir=CACHE_DIR\n",
    "    )\n",
    "    model_path = hf_hub_download(\n",
    "        repo_id=REPO_ID,\n",
    "        filename=\"trained-on-qm9/trained-on-qm9.ckpt\",\n",
    "        cache_dir=CACHE_DIR,\n",
    "    )\n",
    "    return model_config_path, model_path\n",
    "\n",
    "\n",
    "def use_model_trained_on_qmugs():\n",
    "    print(\"Using QMugs model\")\n",
    "    model_config_path = hf_hub_download(\n",
    "        repo_id=REPO_ID, filename=\"trained-on-qmugs/hparams.yaml\", cache_dir=CACHE_DIR\n",
    "    )\n",
    "    model_path = hf_hub_download(\n",
    "        repo_id=REPO_ID,\n",
    "        filename=\"trained-on-qmugs/trained-on-qmugs.ckpt\",\n",
    "        cache_dir=CACHE_DIR,\n",
    "    )\n",
    "    return model_config_path, model_path\n",
    "\n",
    "\n",
    "# or alternatively: use_model_trained_on_qmugs()\n",
    "MODEL_CONFIG_PATH, MODEL_PATH = use_model_trained_on_qm9()\n",
    "MOLECULE_FILE = hf_hub_download(\n",
    "    repo_id=REPO_ID, filename=\"molecule-samples/molecule.xyz\", cache_dir=CACHE_DIR\n",
    ")"
   ]
  },
  {
   "cell_type": "markdown",
   "id": "073ee015",
   "metadata": {},
   "source": [
    "### 🎈 **Run Denop (Density Optimization)**"
   ]
  },
  {
   "cell_type": "code",
   "execution_count": null,
   "id": "2bda8027",
   "metadata": {},
   "outputs": [],
   "source": [
    "import numpy as np\n",
    "\n",
    "from mldft.utils.plotting.plot_density_slices import PlotDensitySlices\n",
    "\n",
    "\n",
    "@set_default_torch_dtype(torch.float64)\n",
    "def denop(xyz_input_file: str, model_config_path: str, model_path: str):\n",
    "    \"\"\"\n",
    "    Performs density optimization on the given molecule file (in .xyz format)\n",
    "    using a pre-trained MLDFT model.\n",
    "    \"\"\"\n",
    "    config = OmegaConf.load(model_config_path)\n",
    "    assert isinstance(config, DictConfig), \"Expected DictConfig\"\n",
    "\n",
    "    model = MLDFTLitModule.load_from_checkpoint(model_path, map_location=DEVICE)\n",
    "    model.eval()\n",
    "    model.to(torch.float64)\n",
    "\n",
    "    optimizer = TorchOptimizer(\n",
    "        torch.optim.SGD,  # pyright: ignore[reportPrivateImportUsage]\n",
    "        convergence_tolerance=0.0001,\n",
    "        max_cycle=10_000,\n",
    "        lr=3e-3,\n",
    "        momentum=0.9,\n",
    "    )\n",
    "    sample_generator = SampleGenerator(config, model)\n",
    "    func_factory = FunctionalFactory.from_module(model)\n",
    "\n",
    "    molecule = gto.M(atom=str(xyz_input_file))\n",
    "    sample = sample_generator.get_sample_from_mol(molecule)\n",
    "\n",
    "    print(\"🎈 Running density optimization\")\n",
    "    final_energies, final_coeffs, converged, _ = density_optimization(\n",
    "        sample,\n",
    "        sample.mol,\n",
    "        optimizer,\n",
    "        func_factory,\n",
    "        initialization=\"minao\",\n",
    "        normalize_initial_guess=True,\n",
    "    )\n",
    "\n",
    "    if converged:\n",
    "        print(\"✅ Density optimization converged\")\n",
    "        print(\"Final energies:\", final_energies)\n",
    "        # print(\"Final coeffs:\", final_coeffs)\n",
    "\n",
    "        # Visualize\n",
    "        coeffs_numpy = (\n",
    "            final_coeffs.detach().cpu().numpy()\n",
    "            if hasattr(final_coeffs, \"detach\")\n",
    "            else np.array(final_coeffs)\n",
    "        )\n",
    "        plot = PlotDensitySlices.show_mol_of_density(coeffs_numpy, sample.mol)\n",
    "        plot.plot_difference()\n",
    "    else:\n",
    "        print(\"⚠️ Density optimization did not converge\")\n",
    "\n",
    "\n",
    "denop(MOLECULE_FILE, MODEL_CONFIG_PATH, MODEL_PATH)"
   ]
  }
 ],
 "metadata": {
  "kernelspec": {
   "display_name": ".venv",
   "language": "python",
   "name": ".venv"
  },
  "language_info": {
   "codemirror_mode": {
    "name": "ipython",
    "version": 3
   },
   "file_extension": ".py",
   "mimetype": "text/x-python",
   "name": "python",
   "nbconvert_exporter": "python",
   "pygments_lexer": "ipython3",
   "version": "3.12.3"
  }
 },
 "nbformat": 4,
 "nbformat_minor": 5
}
